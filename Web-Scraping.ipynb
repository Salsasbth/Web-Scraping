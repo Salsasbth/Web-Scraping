{
 "cells": [
  {
   "cell_type": "markdown",
   "metadata": {},
   "source": [
    "# <p style=\"background-color:#FFC0CB;font-family:newtimeroman;color:#222021;font-size:130%;text-align:center;border-radius:10px 10px;margin-bottom:20px;\">**Web Scraping**</p>\n",
    "\n",
    "<p align=\"center\">\n",
    "  <img src=\"https://hasdata.com/assets/cache_image/components/images/blog/web-scraping.14c36f6b.jpg\" alt=\"Web Scraping\" width=\"600\">\n",
    "  <br>\n",
    "  Source : Hasdata.com\n",
    "</p>\n",
    "\n",
    "\n",
    "**Author  : Salsa Sabitha Hurriyah**  \n",
    "\n",
    "**Program ini dibuat untuk Menganalisis penjualan seblak di platform Tokopedia.**  "
   ]
  },
  {
   "cell_type": "markdown",
   "metadata": {},
   "source": [
    "# <p style=\"background-color:#FFC0CB;font-family:newtimeroman;color:#222021;font-size:130%;text-align:center;border-radius:10px 10px;margin-bottom:20px;\">**1. Introduction**</p>"
   ]
  },
  {
   "cell_type": "markdown",
   "metadata": {},
   "source": [
    "## Business Understanding/Problem Statement\n",
    "\n",
    "Problem : Ingin menambah Income dengan berjualan seblak, namun tidak punya cukup modal. Sehingga memutuskan untuk menjalankan skema dropship di platform Tokopedia. Namun masih ragu apakah seblak adalah produk yang tepat untuk dijual.  \n",
    "\n",
    "**S** (Spesific) : Untuk meyakinkan apakah seblak adalah produk yang tepat untuk dijual agar dapat menambah Income dari berjualan seblak, harus mengetahui potensi penjualan seblak. Maka akan dilakukan analisis terhadap penjualan produk seblak di platform Tokopedia untuk memahami tingkat minat dan respons masyarakat terhadap seblak.   \n",
    "    \n",
    "**M** (Measurable) : Mendapatkan penambahan Income dengan ekspektasi tambahan sebesar Rp 3 juta per bulannya.  \n",
    "   \n",
    "**A** (Achievable) : Menganalisis penjualan seblak di Tokopedia.  \n",
    "\n",
    "**R** (Relevant) : Analisis ini relevan dengan tujuan untuk melihat potensi penjualan seblak yang dapat menghilangkan keraguan dalam pengambilan keputusan untuk menjual seblak atau tidak. Apabila seblak memiliki potensi yang bagus, maka dengan berjualan seblak dapat menambah income per bulannya.  \n",
    "    \n",
    "**T** (Time Bond) : Hasil solusi dari analisis ini bisa dilihat dalam waktu 1 bulan kedepan setelah proses analisa data selesai.  \n",
    "   \n",
    "Meningkatkan pendapatan dari berjualan seblak dengan target tambahan pendapatan sebesar Rp 3 juta perbulannya. Dilakukan dengan menganalisis penjualan produk seblak di platform Tokopedia. Tujuannya adalah untuk memahami tingkat minat dan respons masyarakat terhadap seblak. Analisis yang dilakukan ini relevan untuk menghilangkan keraguan dalam mengambil keputusan untuk berjualan seblak. Hasil analisis ini akan dievaluasi dalam waktu satu bulan setelah selesai dilakukan analisis data."
   ]
  },
  {
   "cell_type": "markdown",
   "metadata": {},
   "source": [
    "# <p style=\"background-color:#FFC0CB;font-family:newtimeroman;color:#222021;font-size:130%;text-align:center;border-radius:10px 10px;margin-bottom:20px;\">**2. Import Libraries**</p>"
   ]
  },
  {
   "cell_type": "code",
   "execution_count": 2,
   "metadata": {},
   "outputs": [],
   "source": [
    "# Import libraries\n",
    "import pandas as pd\n",
    "import numpy as np\n",
    "from scipy import  stats\n",
    "from selenium import webdriver\n",
    "from bs4 import BeautifulSoup\n",
    "import time "
   ]
  },
  {
   "cell_type": "markdown",
   "metadata": {},
   "source": [
    "# <p style=\"background-color:#FFC0CB;font-family:newtimeroman;color:#222021;font-size:130%;text-align:center;border-radius:10px 10px;margin-bottom:20px;\">**3. Web Scraping**</p>"
   ]
  },
  {
   "cell_type": "code",
   "execution_count": 2,
   "metadata": {},
   "outputs": [],
   "source": [
    "# Assign driver\n",
    "driver = webdriver.Chrome()"
   ]
  },
  {
   "cell_type": "markdown",
   "metadata": {},
   "source": [
    "### Data yang diambil :  \n",
    "- Nama Produk  \n",
    "- Harga Produk  \n",
    "- Penjual  \n",
    "- Kota Toko  \n",
    "- Banyaknya Terjual  \n",
    "- Rating Produk  \n",
    "  \n",
    "Ambil informasi produk minimal dari 10 halaman pencarian dengan jumlah data yang diperoleh minimal 50"
   ]
  },
  {
   "cell_type": "markdown",
   "metadata": {},
   "source": [
    "Membuat looping untuk meng-scraping 10 halaman web Tokopedia"
   ]
  },
  {
   "cell_type": "code",
   "execution_count": 106,
   "metadata": {},
   "outputs": [],
   "source": [
    "# Membuat list kosong untuk menyimpan list data yang diminta\n",
    "list_nama_produk = []\n",
    "list_harga_produk = []\n",
    "list_nama_toko = []\n",
    "list_kota_toko = []\n",
    "list_banyak_terjual = []\n",
    "list_rating_produk = []\n",
    "\n",
    "# Looping untuk 10 halaman\n",
    "for i in range (1,11):\n",
    "    # Mengakses website\n",
    "    url = \"https://www.tokopedia.com/search?navsource=&page={}&q=seblak&srp_component_id=02.01.00.00&srp_page_id=&srp_page_title=&st=\".format(i)\n",
    "    driver.get(url)\n",
    "\n",
    "    # meyimpan html menjadi variable\n",
    "    html = driver.page_source\n",
    "    soup = BeautifulSoup(html, 'html.parser')\n",
    "    time.sleep(5)\n",
    "    \n",
    "    # Medefinisikan element box\n",
    "    boxes = soup.find_all('div', {'class':'css-54k5sq'})\n",
    "\n",
    "    # Memubat variabel untuk menyimpan list data per halaman\n",
    "    nama_produk = []\n",
    "    harga_produk = []\n",
    "    nama_toko = []\n",
    "    kota_toko = []\n",
    "    banyak_terjual = []\n",
    "    rating_produk = []\n",
    "    \n",
    "    for box in boxes:\n",
    "        # Mengambil data nama produk\n",
    "        try:\n",
    "            nama = box.find('div', {'class':'prd_link-product-name css-3um8ox'})\n",
    "            nama_produk.append(nama.get_text())\n",
    "        except:\n",
    "            nama_produk.append(None)\n",
    "\n",
    "        # Mengambil data harga produk\n",
    "        try:\n",
    "            harga = box.find('div', {'class':'prd_link-product-price css-h66vau'})\n",
    "            harga_produk.append(harga.get_text())\n",
    "        except:\n",
    "            harga_produk.append(None)\n",
    "\n",
    "        # Mengambil data penjual\n",
    "        penjual = box.find('span', {'class':\"prd_link-shop-name css-1kdc32b flip\"})\n",
    "        try:\n",
    "            nama_toko.append(penjual.get_text())\n",
    "        except:\n",
    "            nama_toko.append(None)\n",
    "\n",
    "        # Mengambil data kota toko\n",
    "        kota = box.find('span', {'class':\"prd_link-shop-loc css-1kdc32b flip\"})\n",
    "        try:\n",
    "            kota_toko.append(kota.get_text())\n",
    "        except:\n",
    "            kota_toko.append(None)\n",
    "\n",
    "        # Mengambil data banyak terjual\n",
    "        terjual = box.find('span', {'class':'prd_label-integrity css-1sgek4h'})\n",
    "        try:\n",
    "            banyak_terjual.append(terjual.get_text())\n",
    "        except:\n",
    "            banyak_terjual.append(None)\n",
    "\n",
    "        # Mengambil data rating\n",
    "        rating = box.find('span', {'class':'prd_rating-average-text css-t70v7i'})\n",
    "        try:\n",
    "            rating_produk.append(rating.get_text())\n",
    "        except:\n",
    "            rating_produk.append(None)\n",
    "\n",
    "    # Menambahkan list data\n",
    "    list_nama_produk += nama_produk\n",
    "    list_harga_produk += harga_produk\n",
    "    list_nama_toko += nama_toko\n",
    "    list_kota_toko += kota_toko\n",
    "    list_banyak_terjual += banyak_terjual\n",
    "    list_rating_produk += rating_produk"
   ]
  },
  {
   "cell_type": "markdown",
   "metadata": {},
   "source": [
    "Insight : Looping berhasil dilakukan dan data telah disimpan dalam list masing-masing kolom"
   ]
  },
  {
   "cell_type": "code",
   "execution_count": 117,
   "metadata": {},
   "outputs": [
    {
     "name": "stdout",
     "output_type": "stream",
     "text": [
      "1065\n",
      "1065\n",
      "1065\n",
      "1065\n",
      "1065\n",
      "1065\n"
     ]
    }
   ],
   "source": [
    "# Mengecek panjang data\n",
    "print(len(list_nama_produk))\n",
    "print(len(list_harga_produk))\n",
    "print(len(list_nama_toko))\n",
    "print(len(list_kota_toko))\n",
    "print(len(list_banyak_terjual))\n",
    "print(len(list_rating_produk))"
   ]
  },
  {
   "cell_type": "markdown",
   "metadata": {},
   "source": [
    "Insight : Panjang data tiap kolom sama, yaitu 1065"
   ]
  },
  {
   "cell_type": "markdown",
   "metadata": {},
   "source": [
    "\n",
    "### Menyimpan hasil scrape ke pandas data frame dan kemudian diolah"
   ]
  },
  {
   "cell_type": "code",
   "execution_count": 204,
   "metadata": {},
   "outputs": [],
   "source": [
    "df = pd.DataFrame({'nama_produk' : list_nama_produk,\n",
    "                   'harga_produk' : list_harga_produk,\n",
    "                   'toko' : list_nama_toko,\n",
    "                   'kota' : list_kota_toko,\n",
    "                   'terjual' : list_banyak_terjual,\n",
    "                   'rating' : list_rating_produk})\n",
    "df.to_csv('Data_Seblak.csv', index=False)"
   ]
  },
  {
   "cell_type": "markdown",
   "metadata": {},
   "source": [
    "Insight  :  Data hasil scrape disimpan ke dalam data frame pandas dengan variabel df dan disimpan ke file csv dengan nama file Data_Seblak"
   ]
  },
  {
   "cell_type": "markdown",
   "metadata": {},
   "source": [
    "# <p style=\"background-color:#FFC0CB;font-family:newtimeroman;color:#222021;font-size:130%;text-align:center;border-radius:10px 10px;margin-bottom:20px;\">**4. Data Preparation**</p>"
   ]
  },
  {
   "cell_type": "code",
   "execution_count": 3,
   "metadata": {},
   "outputs": [],
   "source": [
    "# Variabel baru untuk membaca file csv yang sudah disimpan (agar data asli tidak berubah)\n",
    "df1 = pd.read_csv('Data_Seblak.csv')"
   ]
  },
  {
   "cell_type": "markdown",
   "metadata": {},
   "source": [
    "### 1. Lakukan eksplorasi data sederhana:  "
   ]
  },
  {
   "cell_type": "markdown",
   "metadata": {},
   "source": [
    "- Menampilkan beberapa baris data"
   ]
  },
  {
   "cell_type": "code",
   "execution_count": 6,
   "metadata": {},
   "outputs": [
    {
     "data": {
      "text/html": [
       "<div>\n",
       "<style scoped>\n",
       "    .dataframe tbody tr th:only-of-type {\n",
       "        vertical-align: middle;\n",
       "    }\n",
       "\n",
       "    .dataframe tbody tr th {\n",
       "        vertical-align: top;\n",
       "    }\n",
       "\n",
       "    .dataframe thead th {\n",
       "        text-align: right;\n",
       "    }\n",
       "</style>\n",
       "<table border=\"1\" class=\"dataframe\">\n",
       "  <thead>\n",
       "    <tr style=\"text-align: right;\">\n",
       "      <th></th>\n",
       "      <th>nama_produk</th>\n",
       "      <th>harga_produk</th>\n",
       "      <th>toko</th>\n",
       "      <th>kota</th>\n",
       "      <th>terjual</th>\n",
       "      <th>rating</th>\n",
       "    </tr>\n",
       "  </thead>\n",
       "  <tbody>\n",
       "    <tr>\n",
       "      <th>0</th>\n",
       "      <td>Seblak Instan Ceu Nthien Khas Bandung Rasana N...</td>\n",
       "      <td>Rp17.000</td>\n",
       "      <td>Central Seblak Nusantara</td>\n",
       "      <td>Tangerang Selatan</td>\n",
       "      <td>2rb+ terjual</td>\n",
       "      <td>4.9</td>\n",
       "    </tr>\n",
       "    <tr>\n",
       "      <th>1</th>\n",
       "      <td>GFS Seblak Basah Instan Original - Tinggal Sed...</td>\n",
       "      <td>Rp16.618</td>\n",
       "      <td>Lakoca Official Shop</td>\n",
       "      <td>Cimahi</td>\n",
       "      <td>100+ terjual</td>\n",
       "      <td>4.9</td>\n",
       "    </tr>\n",
       "    <tr>\n",
       "      <th>2</th>\n",
       "      <td>KERUPUK MENTAH KERUPUK SEBLAK MENTAH 500 GR - ...</td>\n",
       "      <td>Rp12.500</td>\n",
       "      <td>BociKakang</td>\n",
       "      <td>Jakarta Selatan</td>\n",
       "      <td>100+ terjual</td>\n",
       "      <td>4.9</td>\n",
       "    </tr>\n",
       "    <tr>\n",
       "      <th>3</th>\n",
       "      <td>Seblak instant murah</td>\n",
       "      <td>Rp4.900</td>\n",
       "      <td>dapurbulbin</td>\n",
       "      <td>Bandung</td>\n",
       "      <td>NaN</td>\n",
       "      <td>NaN</td>\n",
       "    </tr>\n",
       "    <tr>\n",
       "      <th>4</th>\n",
       "      <td>Kerupuk Seblak Pedas Krupuk Pelangi Pedas Sebl...</td>\n",
       "      <td>Rp15.500</td>\n",
       "      <td>toko bemo</td>\n",
       "      <td>Jakarta Timur</td>\n",
       "      <td>500+ terjual</td>\n",
       "      <td>4.9</td>\n",
       "    </tr>\n",
       "  </tbody>\n",
       "</table>\n",
       "</div>"
      ],
      "text/plain": [
       "                                         nama_produk harga_produk  \\\n",
       "0  Seblak Instan Ceu Nthien Khas Bandung Rasana N...     Rp17.000   \n",
       "1  GFS Seblak Basah Instan Original - Tinggal Sed...     Rp16.618   \n",
       "2  KERUPUK MENTAH KERUPUK SEBLAK MENTAH 500 GR - ...     Rp12.500   \n",
       "3                               Seblak instant murah      Rp4.900   \n",
       "4  Kerupuk Seblak Pedas Krupuk Pelangi Pedas Sebl...     Rp15.500   \n",
       "\n",
       "                       toko               kota       terjual  rating  \n",
       "0  Central Seblak Nusantara  Tangerang Selatan  2rb+ terjual     4.9  \n",
       "1      Lakoca Official Shop             Cimahi  100+ terjual     4.9  \n",
       "2                BociKakang    Jakarta Selatan  100+ terjual     4.9  \n",
       "3               dapurbulbin            Bandung           NaN     NaN  \n",
       "4                 toko bemo      Jakarta Timur  500+ terjual     4.9  "
      ]
     },
     "execution_count": 6,
     "metadata": {},
     "output_type": "execute_result"
    }
   ],
   "source": [
    "df1.head()"
   ]
  },
  {
   "cell_type": "markdown",
   "metadata": {},
   "source": [
    "Insight : Data pada data frame harus dilakukan cleaning agar data dapat diproses"
   ]
  },
  {
   "cell_type": "markdown",
   "metadata": {},
   "source": [
    "- Menampilkan informasi rangkuman data"
   ]
  },
  {
   "cell_type": "code",
   "execution_count": 7,
   "metadata": {},
   "outputs": [
    {
     "name": "stdout",
     "output_type": "stream",
     "text": [
      "<class 'pandas.core.frame.DataFrame'>\n",
      "RangeIndex: 1065 entries, 0 to 1064\n",
      "Data columns (total 6 columns):\n",
      " #   Column        Non-Null Count  Dtype  \n",
      "---  ------        --------------  -----  \n",
      " 0   nama_produk   350 non-null    object \n",
      " 1   harga_produk  350 non-null    object \n",
      " 2   toko          350 non-null    object \n",
      " 3   kota          350 non-null    object \n",
      " 4   terjual       344 non-null    object \n",
      " 5   rating        343 non-null    float64\n",
      "dtypes: float64(1), object(5)\n",
      "memory usage: 50.1+ KB\n"
     ]
    }
   ],
   "source": [
    "df1.info()"
   ]
  },
  {
   "cell_type": "markdown",
   "metadata": {},
   "source": [
    "Insight : Terdapat 6 kolom dan 1065 baris"
   ]
  },
  {
   "cell_type": "markdown",
   "metadata": {},
   "source": [
    "- Cek missing value"
   ]
  },
  {
   "cell_type": "code",
   "execution_count": 8,
   "metadata": {},
   "outputs": [
    {
     "data": {
      "text/plain": [
       "nama_produk     715\n",
       "harga_produk    715\n",
       "toko            715\n",
       "kota            715\n",
       "terjual         721\n",
       "rating          722\n",
       "dtype: int64"
      ]
     },
     "execution_count": 8,
     "metadata": {},
     "output_type": "execute_result"
    }
   ],
   "source": [
    "df1.isnull().sum()"
   ]
  },
  {
   "cell_type": "markdown",
   "metadata": {},
   "source": [
    "Insight : Terdapat 715 missing value pada kolom nama_produk, harga_produk, toko, dan kota. sedangkan untuk kolom terjual terdapat 721 missing value, sedangkan untuk kolom rating terdapat 722 missing value."
   ]
  },
  {
   "cell_type": "markdown",
   "metadata": {},
   "source": [
    "- Cek Duplicate"
   ]
  },
  {
   "cell_type": "code",
   "execution_count": 9,
   "metadata": {},
   "outputs": [
    {
     "data": {
      "text/plain": [
       "959"
      ]
     },
     "execution_count": 9,
     "metadata": {},
     "output_type": "execute_result"
    }
   ],
   "source": [
    "df1['nama_produk'].duplicated().sum()"
   ]
  },
  {
   "cell_type": "markdown",
   "metadata": {},
   "source": [
    "Insight : Terdapat 959 data duplikat"
   ]
  },
  {
   "cell_type": "markdown",
   "metadata": {},
   "source": [
    "### 2. Lakukan data cleaning"
   ]
  },
  {
   "cell_type": "markdown",
   "metadata": {},
   "source": [
    "Handle missing value :"
   ]
  },
  {
   "cell_type": "code",
   "execution_count": 4,
   "metadata": {},
   "outputs": [
    {
     "data": {
      "text/plain": [
       "nama_produk     0\n",
       "harga_produk    0\n",
       "toko            0\n",
       "kota            0\n",
       "terjual         6\n",
       "rating          7\n",
       "dtype: int64"
      ]
     },
     "execution_count": 4,
     "metadata": {},
     "output_type": "execute_result"
    }
   ],
   "source": [
    "df1 = df1.dropna(subset=['kota'])\n",
    "df1.isnull().sum()"
   ]
  },
  {
   "cell_type": "markdown",
   "metadata": {},
   "source": [
    "Insight : Menghapus missing value pada kolom kota"
   ]
  },
  {
   "cell_type": "markdown",
   "metadata": {},
   "source": [
    "Handle missing value pada kolom terjual "
   ]
  },
  {
   "cell_type": "code",
   "execution_count": 5,
   "metadata": {},
   "outputs": [
    {
     "data": {
      "text/plain": [
       "nama_produk     0\n",
       "harga_produk    0\n",
       "toko            0\n",
       "kota            0\n",
       "terjual         0\n",
       "rating          7\n",
       "dtype: int64"
      ]
     },
     "execution_count": 5,
     "metadata": {},
     "output_type": "execute_result"
    }
   ],
   "source": [
    "df1 = df1.replace(to_replace=[None], value='0')\n",
    "df1.isnull().sum()"
   ]
  },
  {
   "cell_type": "markdown",
   "metadata": {},
   "source": [
    "Insight : Tersisa 7 missing value pada kolom rating"
   ]
  },
  {
   "cell_type": "markdown",
   "metadata": {},
   "source": [
    "Handle missing value pada kolom rating"
   ]
  },
  {
   "cell_type": "code",
   "execution_count": 6,
   "metadata": {},
   "outputs": [
    {
     "data": {
      "text/plain": [
       "nama_produk     0\n",
       "harga_produk    0\n",
       "toko            0\n",
       "kota            0\n",
       "terjual         0\n",
       "rating          0\n",
       "dtype: int64"
      ]
     },
     "execution_count": 6,
     "metadata": {},
     "output_type": "execute_result"
    }
   ],
   "source": [
    "df1 = df1.replace(to_replace=[np.nan], value=0)\n",
    "df1.isnull().sum()"
   ]
  },
  {
   "cell_type": "markdown",
   "metadata": {},
   "source": [
    "Insight : Sudah tidak terdapat missing value"
   ]
  },
  {
   "cell_type": "markdown",
   "metadata": {},
   "source": [
    "Menghapus data nama produk yang duplikat :"
   ]
  },
  {
   "cell_type": "code",
   "execution_count": 7,
   "metadata": {},
   "outputs": [
    {
     "data": {
      "text/plain": [
       "0"
      ]
     },
     "execution_count": 7,
     "metadata": {},
     "output_type": "execute_result"
    }
   ],
   "source": [
    "df1 = df1.drop_duplicates(subset=['nama_produk'], keep='first')\n",
    "df1.duplicated().sum()"
   ]
  },
  {
   "cell_type": "markdown",
   "metadata": {},
   "source": [
    "Insight : Sudah tidak terdapat data duplikat"
   ]
  },
  {
   "cell_type": "markdown",
   "metadata": {},
   "source": [
    "Me-replace karakter yang tidak diperlukan :"
   ]
  },
  {
   "cell_type": "code",
   "execution_count": 8,
   "metadata": {},
   "outputs": [
    {
     "data": {
      "text/html": [
       "<div>\n",
       "<style scoped>\n",
       "    .dataframe tbody tr th:only-of-type {\n",
       "        vertical-align: middle;\n",
       "    }\n",
       "\n",
       "    .dataframe tbody tr th {\n",
       "        vertical-align: top;\n",
       "    }\n",
       "\n",
       "    .dataframe thead th {\n",
       "        text-align: right;\n",
       "    }\n",
       "</style>\n",
       "<table border=\"1\" class=\"dataframe\">\n",
       "  <thead>\n",
       "    <tr style=\"text-align: right;\">\n",
       "      <th></th>\n",
       "      <th>nama_produk</th>\n",
       "      <th>harga_produk</th>\n",
       "      <th>toko</th>\n",
       "      <th>kota</th>\n",
       "      <th>terjual</th>\n",
       "      <th>rating</th>\n",
       "    </tr>\n",
       "  </thead>\n",
       "  <tbody>\n",
       "    <tr>\n",
       "      <th>0</th>\n",
       "      <td>Seblak Instan Ceu Nthien Khas Bandung Rasana N...</td>\n",
       "      <td>17.000</td>\n",
       "      <td>Central Seblak Nusantara</td>\n",
       "      <td>Tangerang Selatan</td>\n",
       "      <td>2000</td>\n",
       "      <td>4.9</td>\n",
       "    </tr>\n",
       "    <tr>\n",
       "      <th>1</th>\n",
       "      <td>GFS Seblak Basah Instan Original - Tinggal Sed...</td>\n",
       "      <td>16.618</td>\n",
       "      <td>Lakoca Official Shop</td>\n",
       "      <td>Cimahi</td>\n",
       "      <td>100</td>\n",
       "      <td>4.9</td>\n",
       "    </tr>\n",
       "    <tr>\n",
       "      <th>2</th>\n",
       "      <td>KERUPUK MENTAH KERUPUK SEBLAK MENTAH 500 GR - ...</td>\n",
       "      <td>12.500</td>\n",
       "      <td>BociKakang</td>\n",
       "      <td>Jakarta Selatan</td>\n",
       "      <td>100</td>\n",
       "      <td>4.9</td>\n",
       "    </tr>\n",
       "    <tr>\n",
       "      <th>3</th>\n",
       "      <td>Seblak instant murah</td>\n",
       "      <td>4.900</td>\n",
       "      <td>dapurbulbin</td>\n",
       "      <td>Bandung</td>\n",
       "      <td>0</td>\n",
       "      <td>0.0</td>\n",
       "    </tr>\n",
       "    <tr>\n",
       "      <th>4</th>\n",
       "      <td>Kerupuk Seblak Pedas Krupuk Pelangi Pedas Sebl...</td>\n",
       "      <td>15.500</td>\n",
       "      <td>toko bemo</td>\n",
       "      <td>Jakarta Timur</td>\n",
       "      <td>500</td>\n",
       "      <td>4.9</td>\n",
       "    </tr>\n",
       "    <tr>\n",
       "      <th>...</th>\n",
       "      <td>...</td>\n",
       "      <td>...</td>\n",
       "      <td>...</td>\n",
       "      <td>...</td>\n",
       "      <td>...</td>\n",
       "      <td>...</td>\n",
       "    </tr>\n",
       "    <tr>\n",
       "      <th>960</th>\n",
       "      <td>Sebring seblak Rafael bumb pedas gurih daun je...</td>\n",
       "      <td>4.951</td>\n",
       "      <td>Grosir Putra Bdg</td>\n",
       "      <td>Kab. Bandung</td>\n",
       "      <td>25</td>\n",
       "      <td>5.0</td>\n",
       "    </tr>\n",
       "    <tr>\n",
       "      <th>961</th>\n",
       "      <td>KERUPUK SEBLAK 500GR / KRUPUK SEBLAK DAUN JERU...</td>\n",
       "      <td>19.900</td>\n",
       "      <td>Dapur Sehat21</td>\n",
       "      <td>Kab. Bandung</td>\n",
       "      <td>80</td>\n",
       "      <td>4.9</td>\n",
       "    </tr>\n",
       "    <tr>\n",
       "      <th>962</th>\n",
       "      <td>Seblak Makroni pedas daun jeruk 500 gram</td>\n",
       "      <td>25.000</td>\n",
       "      <td>Seblak putra bandung</td>\n",
       "      <td>Kab. Bandung</td>\n",
       "      <td>14</td>\n",
       "      <td>5.0</td>\n",
       "    </tr>\n",
       "    <tr>\n",
       "      <th>963</th>\n",
       "      <td>Kerupuk Bawang Warna Putih Dan Orange 500Gram ...</td>\n",
       "      <td>11.000</td>\n",
       "      <td>Distributor-Jaya</td>\n",
       "      <td>Tangerang</td>\n",
       "      <td>100</td>\n",
       "      <td>4.9</td>\n",
       "    </tr>\n",
       "    <tr>\n",
       "      <th>964</th>\n",
       "      <td>seblak Abah aceng paling top pedas mantul</td>\n",
       "      <td>5.000</td>\n",
       "      <td>cemilan Bandungstore</td>\n",
       "      <td>Cimahi</td>\n",
       "      <td>23</td>\n",
       "      <td>5.0</td>\n",
       "    </tr>\n",
       "  </tbody>\n",
       "</table>\n",
       "<p>105 rows × 6 columns</p>\n",
       "</div>"
      ],
      "text/plain": [
       "                                           nama_produk harga_produk  \\\n",
       "0    Seblak Instan Ceu Nthien Khas Bandung Rasana N...       17.000   \n",
       "1    GFS Seblak Basah Instan Original - Tinggal Sed...       16.618   \n",
       "2    KERUPUK MENTAH KERUPUK SEBLAK MENTAH 500 GR - ...       12.500   \n",
       "3                                 Seblak instant murah        4.900   \n",
       "4    Kerupuk Seblak Pedas Krupuk Pelangi Pedas Sebl...       15.500   \n",
       "..                                                 ...          ...   \n",
       "960  Sebring seblak Rafael bumb pedas gurih daun je...        4.951   \n",
       "961  KERUPUK SEBLAK 500GR / KRUPUK SEBLAK DAUN JERU...       19.900   \n",
       "962           Seblak Makroni pedas daun jeruk 500 gram       25.000   \n",
       "963  Kerupuk Bawang Warna Putih Dan Orange 500Gram ...       11.000   \n",
       "964          seblak Abah aceng paling top pedas mantul        5.000   \n",
       "\n",
       "                         toko               kota terjual  rating  \n",
       "0    Central Seblak Nusantara  Tangerang Selatan   2000      4.9  \n",
       "1        Lakoca Official Shop             Cimahi    100      4.9  \n",
       "2                  BociKakang    Jakarta Selatan    100      4.9  \n",
       "3                 dapurbulbin            Bandung       0     0.0  \n",
       "4                   toko bemo      Jakarta Timur    500      4.9  \n",
       "..                        ...                ...     ...     ...  \n",
       "960          Grosir Putra Bdg       Kab. Bandung     25      5.0  \n",
       "961             Dapur Sehat21       Kab. Bandung     80      4.9  \n",
       "962      Seblak putra bandung       Kab. Bandung     14      5.0  \n",
       "963          Distributor-Jaya          Tangerang    100      4.9  \n",
       "964      cemilan Bandungstore             Cimahi     23      5.0  \n",
       "\n",
       "[105 rows x 6 columns]"
      ]
     },
     "execution_count": 8,
     "metadata": {},
     "output_type": "execute_result"
    }
   ],
   "source": [
    "# Menghilangkan Rp pada kolom harga_produk\n",
    "df1['harga_produk'] = df1['harga_produk'].str.replace('Rp', '')\n",
    "# Menghilangkan + pada kolom terjual\n",
    "df1['terjual'] = df1['terjual'].str.replace('+', '')\n",
    "# Menghilangkan 'terjual' pada kolom terjual\n",
    "df1['terjual'] = df1['terjual'].str.replace('terjual', '')\n",
    "# Mengganti rb menjadi 000 pada kolom terjual\n",
    "df1['terjual'] = df1['terjual'].str.replace('rb', '000')\n",
    "\n",
    "df1"
   ]
  },
  {
   "cell_type": "markdown",
   "metadata": {},
   "source": [
    "Insight : Data sudah bersih, kemudian akan dilakukan penyesuaian tipe data"
   ]
  },
  {
   "cell_type": "markdown",
   "metadata": {},
   "source": [
    "Cek summary data"
   ]
  },
  {
   "cell_type": "code",
   "execution_count": 20,
   "metadata": {},
   "outputs": [
    {
     "name": "stdout",
     "output_type": "stream",
     "text": [
      "<class 'pandas.core.frame.DataFrame'>\n",
      "Index: 105 entries, 0 to 964\n",
      "Data columns (total 6 columns):\n",
      " #   Column        Non-Null Count  Dtype  \n",
      "---  ------        --------------  -----  \n",
      " 0   nama_produk   105 non-null    object \n",
      " 1   harga_produk  105 non-null    object \n",
      " 2   toko          105 non-null    object \n",
      " 3   kota          105 non-null    object \n",
      " 4   terjual       105 non-null    object \n",
      " 5   rating        105 non-null    float64\n",
      "dtypes: float64(1), object(5)\n",
      "memory usage: 5.7+ KB\n"
     ]
    }
   ],
   "source": [
    "df1.info()"
   ]
  },
  {
   "cell_type": "markdown",
   "metadata": {},
   "source": [
    "Insight : Kolom yang tipe datanya tidak sesuai yaitu harga produk yang seharusnya float dan terjual yang seharusnya integer"
   ]
  },
  {
   "cell_type": "markdown",
   "metadata": {},
   "source": [
    "Menyesuaikan tipe data :"
   ]
  },
  {
   "cell_type": "code",
   "execution_count": 9,
   "metadata": {},
   "outputs": [
    {
     "name": "stdout",
     "output_type": "stream",
     "text": [
      "<class 'pandas.core.frame.DataFrame'>\n",
      "Index: 105 entries, 0 to 964\n",
      "Data columns (total 6 columns):\n",
      " #   Column        Non-Null Count  Dtype  \n",
      "---  ------        --------------  -----  \n",
      " 0   nama_produk   105 non-null    object \n",
      " 1   harga_produk  105 non-null    float64\n",
      " 2   toko          105 non-null    object \n",
      " 3   kota          105 non-null    object \n",
      " 4   terjual       105 non-null    int32  \n",
      " 5   rating        105 non-null    float64\n",
      "dtypes: float64(2), int32(1), object(3)\n",
      "memory usage: 5.3+ KB\n"
     ]
    }
   ],
   "source": [
    "# Mengganti tipe data pada kolom harga_produk menjadi float\n",
    "df1['harga_produk'] = df1['harga_produk'].astype(float)\n",
    "\n",
    "# Mengganti tipe data pada kolom terjual menjadi integer\n",
    "df1['terjual'] = df1['terjual'].astype(int)\n",
    "\n",
    "df1.info()"
   ]
  },
  {
   "cell_type": "markdown",
   "metadata": {},
   "source": [
    "Insight : Tipe data tiap kolom sudah sesuai dan siap untuk digunakan di tahap selanjutnya"
   ]
  },
  {
   "cell_type": "code",
   "execution_count": 10,
   "metadata": {},
   "outputs": [],
   "source": [
    "# Menyimpan tabel data seblak yang sudah di cleaning\n",
    "df1.to_csv('Data_Seblak_Cleaned.csv', index=False)"
   ]
  },
  {
   "cell_type": "markdown",
   "metadata": {},
   "source": [
    "# <p style=\"background-color:#FFC0CB;font-family:newtimeroman;color:#222021;font-size:130%;text-align:center;border-radius:10px 10px;margin-bottom:20px;\">**5. Analisis**</p>"
   ]
  },
  {
   "cell_type": "markdown",
   "metadata": {},
   "source": [
    "Untuk menganalisis penjualan seblak, langkah pertama yang dilakukan yaitu :   \n",
    "\n",
    "Menghitung rata-rata, median, standar deviasi, skewness, dan kurtosis dari kolom :\n",
    "- Harga  \n",
    "- Banyak produk terjual  \n",
    "- Rating"
   ]
  },
  {
   "cell_type": "code",
   "execution_count": 3,
   "metadata": {},
   "outputs": [
    {
     "data": {
      "text/html": [
       "<div>\n",
       "<style scoped>\n",
       "    .dataframe tbody tr th:only-of-type {\n",
       "        vertical-align: middle;\n",
       "    }\n",
       "\n",
       "    .dataframe tbody tr th {\n",
       "        vertical-align: top;\n",
       "    }\n",
       "\n",
       "    .dataframe thead th {\n",
       "        text-align: right;\n",
       "    }\n",
       "</style>\n",
       "<table border=\"1\" class=\"dataframe\">\n",
       "  <thead>\n",
       "    <tr style=\"text-align: right;\">\n",
       "      <th></th>\n",
       "      <th>harga_produk</th>\n",
       "      <th>terjual</th>\n",
       "      <th>rating</th>\n",
       "    </tr>\n",
       "  </thead>\n",
       "  <tbody>\n",
       "    <tr>\n",
       "      <th>median</th>\n",
       "      <td>16.000000</td>\n",
       "      <td>100.000000</td>\n",
       "      <td>4.900000</td>\n",
       "    </tr>\n",
       "    <tr>\n",
       "      <th>mean</th>\n",
       "      <td>29.438381</td>\n",
       "      <td>721.742857</td>\n",
       "      <td>4.608571</td>\n",
       "    </tr>\n",
       "    <tr>\n",
       "      <th>std</th>\n",
       "      <td>72.308646</td>\n",
       "      <td>1717.978620</td>\n",
       "      <td>1.147834</td>\n",
       "    </tr>\n",
       "    <tr>\n",
       "      <th>skewness</th>\n",
       "      <td>8.071966</td>\n",
       "      <td>3.880059</td>\n",
       "      <td>-3.787718</td>\n",
       "    </tr>\n",
       "    <tr>\n",
       "      <th>kurtosis</th>\n",
       "      <td>72.631398</td>\n",
       "      <td>16.720349</td>\n",
       "      <td>12.801481</td>\n",
       "    </tr>\n",
       "  </tbody>\n",
       "</table>\n",
       "</div>"
      ],
      "text/plain": [
       "          harga_produk      terjual     rating\n",
       "median       16.000000   100.000000   4.900000\n",
       "mean         29.438381   721.742857   4.608571\n",
       "std          72.308646  1717.978620   1.147834\n",
       "skewness      8.071966     3.880059  -3.787718\n",
       "kurtosis     72.631398    16.720349  12.801481"
      ]
     },
     "execution_count": 3,
     "metadata": {},
     "output_type": "execute_result"
    }
   ],
   "source": [
    "# Membaca file csv tabel data seblak yang sudah di cleaning\n",
    "df2 = pd.read_csv('Data_Seblak_Cleaned.csv')\n",
    "\n",
    "# Membuat tabel statistik\n",
    "table_stat = pd.DataFrame(df2[['harga_produk','terjual','rating']].describe()).T\n",
    "\n",
    "# Membuat tabel median\n",
    "median = pd.DataFrame([df2[['harga_produk','terjual','rating']].median()])\n",
    "median = median.rename(index={0:'median'})\n",
    "\n",
    "# Membuat tabel mean\n",
    "mean = pd.DataFrame([df2[['harga_produk','terjual','rating']].mean()])\n",
    "mean = mean.rename(index={0:'mean'})\n",
    "\n",
    "# Membuat tabel standar deviasi\n",
    "std = pd.DataFrame([df2[['harga_produk','terjual','rating']].std()])\n",
    "std = std.rename(index={0:'std'})\n",
    "\n",
    "# Membuat series skewness dan kurtosis\n",
    "skewness = df2[['harga_produk','terjual','rating']].skew()\n",
    "kurtosis = df2[['harga_produk','terjual','rating']].kurtosis()\n",
    "\n",
    "# Membuat dataframe normTestFrame berdasarkan skewness dan kurtosis dan mengubah indexnya menjadi skewness dan kurtosis\n",
    "distributionTest = pd.DataFrame([skewness,kurtosis])\n",
    "distributionTest = distributionTest.rename(index={0:'skewness',1:'kurtosis'})\n",
    "\n",
    "# Menggabungkan tabel median, mean, dan distributionTest\n",
    "table_stat = pd.concat([median,mean,std,distributionTest],ignore_index=False)\n",
    "table_stat"
   ]
  },
  {
   "cell_type": "markdown",
   "metadata": {},
   "source": [
    "Insight :\n",
    "- Dilihat dari median dan mean, kolom harga_produk dan terjual memiliki perbedaan nilai yang cukup signifikan. sedangkan kolom rating memiliki perbedaan nilai yang tidak terlalu signifikan.\n",
    "- Dilihat dari nilai standar deviasi, kolom harga_produk dan terjual memiliki standar deviasi yang tinggi, sedangkan rating tidak\n",
    "- Dilihat dari skewness harga_produk dan terjual memiliki skewness positif yang tinggi, dan rating memiliki skewness negatif yang juga tinggi\n",
    "- Dilihat dari kurtosis harga_produk, terjual, dan rating memiliki kurtosis > 0 (leptokurtic).\n",
    "\n",
    "Diketahui bahwa distribusi data sangat tidak merata dan data memiliki outlier"
   ]
  },
  {
   "cell_type": "markdown",
   "metadata": {},
   "source": [
    "### Selanjutnya akan dilakukan Test Normalitas\n",
    "Jika p-value > 0.05 data terdistribusi normal."
   ]
  },
  {
   "cell_type": "markdown",
   "metadata": {},
   "source": [
    "- D’Agostino’s K^2 Test"
   ]
  },
  {
   "cell_type": "code",
   "execution_count": 5,
   "metadata": {},
   "outputs": [
    {
     "name": "stdout",
     "output_type": "stream",
     "text": [
      "p-value harga produk : 9.227403500146866e-44\n",
      "p-value terjual : 2.0630667329351847e-25\n",
      "p-value rating : 5.503004942159435e-24\n"
     ]
    }
   ],
   "source": [
    "hargatest = stats.normaltest(df2['harga_produk']).pvalue\n",
    "terjualtest = stats.normaltest(df2['terjual']).pvalue\n",
    "ratingtest = stats.normaltest(df2['rating']).pvalue\n",
    "\n",
    "print(f'p-value harga produk : {hargatest}')\n",
    "print(f'p-value terjual : {terjualtest}')\n",
    "print(f'p-value rating : {ratingtest}')"
   ]
  },
  {
   "cell_type": "markdown",
   "metadata": {},
   "source": [
    "Insight :\n",
    "Dalam D'Agostinos test semua data memiliki distribusi normal"
   ]
  },
  {
   "cell_type": "markdown",
   "metadata": {},
   "source": [
    "- Shapiro-Wilk Test"
   ]
  },
  {
   "cell_type": "code",
   "execution_count": 6,
   "metadata": {},
   "outputs": [
    {
     "name": "stdout",
     "output_type": "stream",
     "text": [
      "p-value shapiro harga produk : 1.5683884020108125e-20\n",
      "p-value shapiro terjual : 5.08673311482443e-18\n",
      "p-value shapiro rating : 7.712469180261334e-20\n"
     ]
    }
   ],
   "source": [
    "hargatest2 = stats.shapiro(df2['harga_produk']).pvalue\n",
    "terjualtest2 = stats.shapiro(df2['terjual']).pvalue\n",
    "ratingtest2 = stats.shapiro(df2['rating']).pvalue\n",
    "\n",
    "print(f'p-value shapiro harga produk : {hargatest2}')\n",
    "print(f'p-value shapiro terjual : {terjualtest2}')\n",
    "print(f'p-value shapiro rating : {ratingtest2}')"
   ]
  },
  {
   "cell_type": "markdown",
   "metadata": {},
   "source": [
    "Insight :\n",
    "Dalam Shapiro-Wilk test semua data memiliki distribusi normal"
   ]
  },
  {
   "cell_type": "markdown",
   "metadata": {},
   "source": [
    "#### Selanjutnya untuk mengetahui potensi pendapatan dari berjualan seblak \n",
    "Dilakukan dengan menghitung lower value dan upper value dari distribusi populasi pendapatan dimana confidence levelnya adalah 95%."
   ]
  },
  {
   "cell_type": "code",
   "execution_count": 7,
   "metadata": {},
   "outputs": [
    {
     "name": "stdout",
     "output_type": "stream",
     "text": [
      "Lower : 5599.322317667436\n",
      "Upper : 22654.38415852304\n"
     ]
    }
   ],
   "source": [
    "pendapatan = df2['terjual'] * df2['harga_produk']\n",
    "std = pendapatan.std()\n",
    "N = len(df2)\n",
    "low, up = stats.norm.interval(0.95,loc=pendapatan.mean(),scale=std/np.sqrt(N))\n",
    "print('Lower :', low)\n",
    "print('Upper :', up)"
   ]
  },
  {
   "cell_type": "markdown",
   "metadata": {},
   "source": [
    "Insight : Estimasi pendapatan terendah tiap bulannya adalah Rp5.599.000 dan tertinggi Rp22.654.000"
   ]
  },
  {
   "cell_type": "markdown",
   "metadata": {},
   "source": [
    "#### Mendeteksi outliers :  \n",
    "Karena skewness data > 0.5 maka pencarian outlier dilakukan dengan menggunakan Tukey Rule"
   ]
  },
  {
   "cell_type": "markdown",
   "metadata": {},
   "source": [
    "Tukey Rule :"
   ]
  },
  {
   "cell_type": "code",
   "execution_count": 8,
   "metadata": {},
   "outputs": [
    {
     "name": "stdout",
     "output_type": "stream",
     "text": [
      "Banyak outlier harga_produk : 2\n",
      "Banyak outlier terjual : 13\n",
      "Banyak outlier rating : 0\n",
      "\n",
      "Persentase outlier harga_produk : 1.9047619047619047%\n",
      "Persentase outlier terjual : 12.380952380952381%\n",
      "Persentase outlier rating : 0.0%\n"
     ]
    }
   ],
   "source": [
    "# Mengambil data quartil 1 dan 3 dari tabel_stat\n",
    "q1 = table_stat.quantile(0.25)\n",
    "q3 = table_stat.quantile(0.75)\n",
    "iqr = q3-q1\n",
    "\n",
    "# Mencari lower Bound dan Upper Bound\n",
    "upperBound = q3 + 1.5*iqr\n",
    "lowerBound = q3 - 1.5*iqr\n",
    "\n",
    "# Mencari Outlier\n",
    "outlier_harga = df2['harga_produk'][(df2['harga_produk'] < lowerBound['harga_produk']) | (df2['harga_produk'] > upperBound['harga_produk'])].copy()\n",
    "outlier_terjual = df2['terjual'][(df2['terjual'] < lowerBound['terjual']) | (df2['terjual'] > upperBound['terjual'])].copy()\n",
    "outlier_rating = df2['rating'][(df2['rating'] < lowerBound['rating']) | (df2['rating'] > upperBound['rating'])].copy()\n",
    "\n",
    "persen_harga = len(outlier_harga) * 100/len(df2['harga_produk'])\n",
    "persen_terjual = len(outlier_terjual) * 100/len(df2['terjual']) \n",
    "persen_rating = len(outlier_rating) * 100/len(df2['rating']) \n",
    "\n",
    "print(f'Banyak outlier harga_produk : {len(outlier_harga)}')\n",
    "print(f'Banyak outlier terjual : {len(outlier_terjual)}')\n",
    "print(f'Banyak outlier rating : {len(outlier_rating)}')\n",
    "print()\n",
    "print(f'Persentase outlier harga_produk : {persen_harga}%')\n",
    "print(f'Persentase outlier terjual : {persen_terjual}%')\n",
    "print(f'Persentase outlier rating : {persen_rating}%')"
   ]
  },
  {
   "cell_type": "markdown",
   "metadata": {},
   "source": [
    "Insight :  \n",
    "Diketahui bahwa terjual memiliki outlier tertinggi diikuti dengan harga_produk"
   ]
  },
  {
   "cell_type": "markdown",
   "metadata": {},
   "source": [
    "### Setelah mendeteksi outlier, akan dilakukan Pembersihan Outlier\n",
    "Dengan mengambil data yang selain outlier"
   ]
  },
  {
   "cell_type": "code",
   "execution_count": 9,
   "metadata": {},
   "outputs": [
    {
     "name": "stdout",
     "output_type": "stream",
     "text": [
      "Banyak data tanpa outlier harga_produk : 103\n",
      "Banyak data tanpa outlier terjual : 92\n",
      "Banyak data tanpa outlier rating : 105\n",
      "\n",
      "Persentase tanpa outlier harga_produk : 98.0952380952381%\n",
      "Persentase tanpa outlier terjual : 87.61904761904762%\n",
      "Persentase tanpa outlier rating : 100.0%\n"
     ]
    }
   ],
   "source": [
    "# Mengambil data quartil 1 dan 3 dari tabel_stat\n",
    "q1 = table_stat.quantile(0.25)\n",
    "q3 = table_stat.quantile(0.75)\n",
    "iqr = q3-q1\n",
    "\n",
    "# Mencari lower Bound dan Upper Bound\n",
    "upperBound = q3 + 1.5*iqr\n",
    "lowerBound = q3 - 1.5*iqr\n",
    "\n",
    "# Mencari Outlier\n",
    "harga_bersih =  df2.query('harga_produk >= %s and harga_produk <= %s'%(lowerBound['harga_produk'],upperBound['harga_produk'])).copy()\n",
    "terjual_bersih = df2.query('terjual >= %s and terjual <= %s'%(lowerBound['terjual'],upperBound['terjual'])).copy()\n",
    "rating_bersih = df2.query('rating >= %s and rating <= %s'%(lowerBound['rating'],upperBound['rating'])).copy()\n",
    "\n",
    "persen_harga_bersih = len(harga_bersih) * 100/len(df2['harga_produk'])\n",
    "persen_terjual_bersih = len(terjual_bersih) * 100/len(df2['terjual']) \n",
    "persen_rating_bersih = len(rating_bersih) * 100/len(df2['rating']) \n",
    "\n",
    "print(f'Banyak data tanpa outlier harga_produk : {len(harga_bersih)}')\n",
    "print(f'Banyak data tanpa outlier terjual : {len(terjual_bersih)}')\n",
    "print(f'Banyak data tanpa outlier rating : {len(rating_bersih)}')\n",
    "print()\n",
    "print(f'Persentase tanpa outlier harga_produk : {persen_harga_bersih}%')\n",
    "print(f'Persentase tanpa outlier terjual : {persen_terjual_bersih}%')\n",
    "print(f'Persentase tanpa outlier rating : {persen_rating_bersih}%')"
   ]
  },
  {
   "cell_type": "markdown",
   "metadata": {},
   "source": [
    "Insight : \n",
    "Diketahui bahwa rating tidak memiliki outlier,  \n",
    "Data telah dibersihkan dari outlier yang kemudian siap untuk diproses untuk tahap selanjutnya."
   ]
  },
  {
   "cell_type": "markdown",
   "metadata": {},
   "source": [
    "### Terdapat beberapa kota lokasi toko, akan dilakukan perbandingan harga di Jabodetabek dan di luar Jabodetabek  \n",
    "Dengan perbedaan biaya bahan baku di kedua lokasi, maka akan dibuat hipotesis untuk mengetahui pakah harga barang di Jabodetabek dan di luar Jabodetabek berbeda.  \n",
    "\n",
    "#### Langkah pertama yaitu Pembuatan Hipotesis  \n",
    "Ada kemungkinan harga seblak di jabodetabek dan di luar jabodetabek berbeda dikarenakan perbedaan harga bahan baku\n",
    "\n",
    "Hipotesis :  \n",
    "- H0 : Tidak ada perbedaan harga seblak di Jabodetabek dan di Luar Jabodetabek\n",
    "- H1 : Harga seblak di Jabodetabek dan di Luar Jabodetabek Berbeda\n",
    "\n",
    "#### Langkah selanjutnya yaitu Pengujian Hipotesis  \n",
    "Metode pengujian yang digunakan :  \n",
    "- Pengujian dengan membandingkan rata-rata\n",
    "- Pengujian Two Sample T-Test"
   ]
  },
  {
   "cell_type": "markdown",
   "metadata": {},
   "source": [
    "Membuat data frame untuk menyimpan data Jabodetabek dan luar Jabodetabek"
   ]
  },
  {
   "cell_type": "code",
   "execution_count": 58,
   "metadata": {},
   "outputs": [
    {
     "name": "stdout",
     "output_type": "stream",
     "text": [
      "Banyak toko Jabodetabek : 63\n",
      "Banyak toko luar Jabodetabek : 42\n"
     ]
    }
   ],
   "source": [
    "# Membuat list variabel untuk menampung kota yg termasuk Jabodetabek\n",
    "jabodetabek = ['jakarta','bogor','depok','tangerang','bekasi']\n",
    "\n",
    "# Membuat list variabel kosong untuk menyimpan nilai harga di Jabodetabek dan Luar Jabodetabek\n",
    "hargaIn = []\n",
    "hargaOut = []\n",
    "\n",
    "# Looping untuk setiap baris data frame\n",
    "for index, row in df2.iterrows():\n",
    "    # Mengubah format kolom kota menjadi lower agar dapat diidentifikasi dengan variabel baru\n",
    "    kota_lower = row['kota'].lower()\n",
    "    # Jika ada setidaknya satu lokasi dalam jabodetabek yang terdapat dalam kota_lower, maka kondisi tersebut akan terpenuhi (True).\n",
    "    if any(lok in kota_lower for lok in jabodetabek):\n",
    "        # Maka akan menambahkan baris harga dan kota ke dalam variabel hargaIn\n",
    "        hargaIn.append(row['harga_produk'])\n",
    "    else:\n",
    "        # Jika tidak terdapat dalam jabodetabek maka akan menambahkan baris harga dan kota tersebut ke dalam variabel hargaOut\n",
    "        hargaOut.append(row['harga_produk'])\n",
    "\n",
    "# Menjadikan hargaIn dan hargaOut menjadi data frame dan diubah nama kolom nya\n",
    "hargaIn = pd.DataFrame(hargaIn).rename(columns={0:'harga'})\n",
    "hargaOut = pd.DataFrame(hargaOut).rename(columns={0:'harga'})\n",
    "\n",
    "# Menampilkan banyak toko dari jabodetabek dan luar jabodetabek\n",
    "print(f'Banyak toko Jabodetabek : {len(hargaIn)}')\n",
    "print(f'Banyak toko luar Jabodetabek : {len(hargaOut)}')"
   ]
  },
  {
   "cell_type": "markdown",
   "metadata": {},
   "source": [
    "Insight : Diketahui bahwa lebih banyak toko yang berasal dari jabodetabek dibandingkan luar jabodetabek"
   ]
  },
  {
   "cell_type": "markdown",
   "metadata": {},
   "source": [
    "#### Selanjutnya Pengujian Hipotesis :  \n",
    "-  Pengujian dengan membandingkan rata-rata"
   ]
  },
  {
   "cell_type": "code",
   "execution_count": 60,
   "metadata": {},
   "outputs": [
    {
     "name": "stdout",
     "output_type": "stream",
     "text": [
      "Rata-rata harga produk di Jabodetabek : 29.026174603174606\n",
      "Harga terendah produk di Jabodetabek : 3.5\n",
      "Harga tertinggi produk di Jabodetabek : 240.672\n",
      "Standar deviasi harga produk di Jabodetabek : 88.17223536307013\n",
      "\n",
      "Rata-rata harga produk luar Jabodetabek : 30.05669047619047\n",
      "Harga terendah produk di Jabodetabek : 3.5\n",
      "Harga tertinggi produk di Jabodetabek : 240.672\n",
      "Standar deviasi harga produk luar Jabodetabek : 38.802863985628996\n"
     ]
    }
   ],
   "source": [
    "# Membuat variabel untuk menampung nilai mean\n",
    "meanIn = hargaIn['harga'].mean()\n",
    "minIn = hargaOut['harga'].min()\n",
    "maxIn = hargaOut['harga'].max()\n",
    "stdIn = hargaIn['harga'].std()\n",
    "meanOut = hargaOut['harga'].mean()\n",
    "minOut = hargaOut['harga'].min()\n",
    "maxOut = hargaOut['harga'].max()\n",
    "stdOut = hargaOut['harga'].std()\n",
    "\n",
    "# Membuat variabel untuk hipotesis\n",
    "H0 =  meanIn == meanOut\n",
    "H1 =  meanIn != meanOut\n",
    "\n",
    "# Menampilkan nilai mean\n",
    "print(f'Rata-rata harga produk di Jabodetabek : {meanIn}')\n",
    "print(f'Harga terendah produk di Jabodetabek : {minIn}')\n",
    "print(f'Harga tertinggi produk di Jabodetabek : {maxIn}')\n",
    "print(f'Standar deviasi harga produk di Jabodetabek : {stdIn}')\n",
    "print()\n",
    "print(f'Rata-rata harga produk luar Jabodetabek : {meanOut}')\n",
    "print(f'Harga terendah produk di Jabodetabek : {minOut}')\n",
    "print(f'Harga tertinggi produk di Jabodetabek : {maxOut}')\n",
    "print(f'Standar deviasi harga produk luar Jabodetabek : {stdOut}')"
   ]
  },
  {
   "cell_type": "markdown",
   "metadata": {},
   "source": [
    "Insight : Diketahui bahwa harga rata-rata Jabodetabek dan Luar Jabodetabek tidak ada perbedaan yang signifikan."
   ]
  },
  {
   "cell_type": "markdown",
   "metadata": {},
   "source": [
    "- Pengujian Hipotesis dengan Two Sample Test  "
   ]
  },
  {
   "cell_type": "code",
   "execution_count": 74,
   "metadata": {},
   "outputs": [
    {
     "name": "stdout",
     "output_type": "stream",
     "text": [
      "T-Statistic: -0.07119956794677094\n",
      "P-value: 0.9433769890990458\n"
     ]
    }
   ],
   "source": [
    "t_stat, p_val = stats.ttest_ind(hargaIn['harga'],hargaOut['harga'])\n",
    "print('T-Statistic:',t_stat)\n",
    "print('P-value:',p_val) "
   ]
  },
  {
   "cell_type": "markdown",
   "metadata": {},
   "source": [
    "Insight :  \n",
    "- Dari nilai T-Statistik dapat diketahui bahwa tidak ada perbedaan signifikan antara harga seblak jabodetabek dan luar jabodetabek, dengan harga jabodetabek lebih rendah dari pada luar jabodetabek.  \n",
    "- Nilai P-Value > 0.05 yang artinya gagal menolak H0 (H0 Diterima)"
   ]
  },
  {
   "cell_type": "markdown",
   "metadata": {},
   "source": [
    "Kesimpulan : H0 diterima. Tidak ada perbedaan harga antara Jabodetabek dan Luar Jabodetabek"
   ]
  },
  {
   "cell_type": "markdown",
   "metadata": {},
   "source": [
    "### Untuk mengetahui apakah orang lebih cenderung suka dengan produk yang harganya murah?  \n",
    "Pembuatan Hipotesis :  \n",
    "H0 = Tidak ada korelasi antara harga dan rating  \n",
    "H1 = Ada korelasi antara harga dan rating\n",
    "\n",
    "Uji korelasi yang digunakan :  \n",
    "Karena rating merupakan data bertipe kategorikal sedangkan harga merupakan numerikal, maka uji korelasi yang digunakan adalah Kendall."
   ]
  },
  {
   "cell_type": "markdown",
   "metadata": {},
   "source": [
    "Uji Korelasi Kendall antara harga dan rating"
   ]
  },
  {
   "cell_type": "code",
   "execution_count": 8,
   "metadata": {},
   "outputs": [
    {
     "name": "stdout",
     "output_type": "stream",
     "text": [
      "P-Value Kendall : 0.04631557413028574\n",
      "Nilai korelasi kendall : 0.14764283940561812\n",
      "Korelasi kedua variabel bersifat nyata\n"
     ]
    }
   ],
   "source": [
    "# Menghitung nilai korelasi dan p-value dari kolom harga_produk dan rating\n",
    "corr_tau, pval_k = stats.kendalltau(df2['harga_produk'], df2['rating'])\n",
    "\n",
    "# Menampilkan nilai korelasi dan p-value dari kolom harga_produk dan rating\n",
    "print(f'P-Value Kendall : {pval_k}')\n",
    "print(f'Nilai korelasi kendall : {corr_tau}')\n",
    "\n",
    "# jika p-value kendall besar dari 0.05\n",
    "if pval_k > 0.05:\n",
    "    # maka menampilkan Korelasi kedua variabel bersifat kebetulan\n",
    "    print('Korelasi kedua variabel bersifat kebetulan')\n",
    "else:\n",
    "    # Jika tidak maka akan menampilkan Korelasi kedua variabel bersifat nyata\n",
    "    print('Korelasi kedua variabel bersifat nyata')"
   ]
  },
  {
   "cell_type": "markdown",
   "metadata": {},
   "source": [
    "Insight : P-value < 0,05 maka korelasi kedua variabel bersifat nyata. H0 ditolak"
   ]
  },
  {
   "cell_type": "markdown",
   "metadata": {},
   "source": [
    "Kesimpulan : H0 ditolak. Dapat disimpulkan bahwa murah mahalnya harga sangat mempengaruhi rating."
   ]
  },
  {
   "cell_type": "markdown",
   "metadata": {},
   "source": [
    "# <p style=\"background-color:#FFC0CB;font-family:newtimeroman;color:#222021;font-size:130%;text-align:center;border-radius:10px 10px;margin-bottom:20px;\">**6. Kesimpulan**</p>"
   ]
  },
  {
   "cell_type": "markdown",
   "metadata": {},
   "source": [
    "Kesimpulan yang dapat diambil dari hasil analisis ini adalah :  \n",
    "\n",
    "- Dari 10 halaman yang di scrap, diperoleh 1065 data. Setelah dilakukan cleaning data diperoleh data sebanyak 105 baris.\n",
    "- Potensi pendapatan penjualan seblak di Platform Tokopedia berkisar dari Rp5.599.000 sampai Rp22.654.000 perbulan.\n",
    "- Untuk wilayah Jabodetabek dan Luar Jabodetabek tidak memiliki perbedaan harga yang signifikan.\n",
    "- Harga produk mempengaruhi rating pembeli.  \n",
    "\n",
    "**Berdasarkan dari analisis ini, saya akan mengambil keputusan untuk menjadi dropshipper seblak karena potensi pesimis keuntungan sebesar Rp5.599.000 per bulannya dimana pendapatan tersebut sudah memenuhi target saya yaitu sebesar Rp 3 juta perbulannya**"
   ]
  }
 ],
 "metadata": {
  "kernelspec": {
   "display_name": "base",
   "language": "python",
   "name": "python3"
  },
  "language_info": {
   "codemirror_mode": {
    "name": "ipython",
    "version": 3
   },
   "file_extension": ".py",
   "mimetype": "text/x-python",
   "name": "python",
   "nbconvert_exporter": "python",
   "pygments_lexer": "ipython3",
   "version": "3.11.5"
  }
 },
 "nbformat": 4,
 "nbformat_minor": 2
}
